{
 "cells": [
  {
   "cell_type": "markdown",
   "id": "95f35601-af38-4068-8df5-a403d0542950",
   "metadata": {
    "tags": [],
    "toc-hr-collapsed": true
   },
   "source": [
    "## Callable objects\n",
    "A callable in Python is any object that you can call using a pair of parentheses and a series of arguments if required. You’ll find different examples of callables in your daily interaction with Python. Some of them include:\n",
    "* Built-in functions and classes\n",
    "* User-defined functions that you create with the def keyword\n",
    "* Anonymous functions that you write using the lambda keyword\n",
    "* The constructors of your custom classes\n",
    "* Instance, class, and static methods\n",
    "* Instances of classes that implement the .__call__() method\n",
    "* Closures that you return from your functions\n",
    "* Generator functions that you define using the yield keyword\n",
    "* Asynchronous functions and methods that you create with the async keyword\n",
    "\n",
    "I think only the objects we create ourselves using some class are not callable by default in python"
   ]
  },
  {
   "cell_type": "code",
   "execution_count": 2,
   "id": "35a49ceb-529a-4fd4-a864-01b11ac05bb5",
   "metadata": {
    "tags": []
   },
   "outputs": [
    {
     "name": "stdout",
     "output_type": "stream",
     "text": [
      "INTERNAL = ['__call__', '__class__', '__delattr__', '__dir__', '__doc__', '__eq__', '__format__', '__ge__', '__getattribute__', '__getstate__', '__gt__', '__hash__', '__init__', '__init_subclass__', '__le__', '__lt__', '__module__', '__name__', '__ne__', '__new__', '__qualname__', '__reduce__', '__reduce_ex__', '__repr__', '__self__', '__setattr__', '__sizeof__', '__str__', '__subclasshook__', '__text_signature__']\n",
      "\n",
      "******************************\n",
      "USER DEFINED == ['__annotations__', '__builtins__', '__call__', '__class__', '__closure__', '__code__', '__defaults__', '__delattr__', '__dict__', '__dir__', '__doc__', '__eq__', '__format__', '__ge__', '__get__', '__getattribute__', '__getstate__', '__globals__', '__gt__', '__hash__', '__init__', '__init_subclass__', '__kwdefaults__', '__le__', '__lt__', '__module__', '__name__', '__ne__', '__new__', '__qualname__', '__reduce__', '__reduce_ex__', '__repr__', '__setattr__', '__sizeof__', '__str__', '__subclasshook__']\n",
      "\n",
      "*****************\n",
      "hi\n"
     ]
    }
   ],
   "source": [
    "# We can check if the instance has the __call__ method implemented in it\n",
    "# using the dir function\n",
    "\n",
    "# internal function\n",
    "print(\"INTERNAL =\", dir(len))\n",
    "\n",
    "print(\"\\n******************************\")\n",
    "\n",
    "# user defined functions\n",
    "def hi():\n",
    "    print(\"hi\")\n",
    "print(\"USER DEFINED ==\",dir(hi))\n",
    "\n",
    "print(\"\\n*****************\")\n",
    "\n",
    "# T%his can also be called using that __call__ method\n",
    "hi.__call__()"
   ]
  },
  {
   "cell_type": "markdown",
   "id": "b3334b9f-2545-419d-845f-5fe36561e930",
   "metadata": {},
   "source": [
    "#### Class example\n",
    "The class constructor of SampleClass falls back to using ***type.\\__call\\__()***. That’s why you can call SampleClass() to get a new instance, class constructors are callable objects that return new instances of the underlying class."
   ]
  },
  {
   "cell_type": "code",
   "execution_count": 4,
   "id": "ff727394-43a2-4bfb-9f7d-74f84545179b",
   "metadata": {},
   "outputs": [
    {
     "name": "stdout",
     "output_type": "stream",
     "text": [
      "constructor functn == True\n",
      "method functn == True\n",
      "instance == False\n"
     ]
    }
   ],
   "source": [
    "class Simple:\n",
    "    def method(self):\n",
    "        return \"hello\"\n",
    "    \n",
    "# Now lets see what is callable\n",
    "\n",
    "# this will check if the constructor function of class is cdallable\n",
    "# The class constructor of SampleClass falls back to using type.__call__(). That’s why you can call SampleClass() to get a new instance. \n",
    "# So, class constructors are callable objects that return new instances of the underlying class.\n",
    "print(\"constructor functn ==\",callable(Simple))\n",
    "\n",
    "simpleObj = Simple()\n",
    "\n",
    "# the method in class\n",
    "print(\"method functn ==\",callable(simpleObj.method))\n",
    "\n",
    "# if the instance is callable\n",
    "print(\"instance ==\",callable(simpleObj))\n"
   ]
  },
  {
   "cell_type": "markdown",
   "id": "dceca907-04f4-4cb1-8f62-7bc80424fa93",
   "metadata": {},
   "source": [
    "#### Inference\n",
    "the instances are not callable by default"
   ]
  },
  {
   "cell_type": "markdown",
   "id": "74df7717-8e06-4be8-abf7-b2418438672f",
   "metadata": {
    "toc-hr-collapsed": true
   },
   "source": [
    "## Creating a class that returns callable objects\n",
    "The class below provides the instances that have data (**instance attribute**) count instantiated to 0 and whenever the instance is called then the counter increases"
   ]
  },
  {
   "cell_type": "code",
   "execution_count": 7,
   "id": "7e0f7eb2-f088-4cea-bfe9-bb781aabb772",
   "metadata": {},
   "outputs": [],
   "source": [
    "class Counter:\n",
    "    def __init__(self):\n",
    "        self.count = 0\n",
    "\n",
    "    def increment(self):\n",
    "        self.count += 1\n",
    "\n",
    "    def __call__(self):\n",
    "        self.increment()"
   ]
  },
  {
   "cell_type": "code",
   "execution_count": 8,
   "id": "5434e4d3-28ae-4e05-b55b-23a9ca87109c",
   "metadata": {},
   "outputs": [
    {
     "name": "stdout",
     "output_type": "stream",
     "text": [
      "0\n",
      "1\n",
      "2\n",
      "3\n",
      "4\n"
     ]
    }
   ],
   "source": [
    "count1 = Counter()\n",
    "print(count1.count)\n",
    "\n",
    "count1()\n",
    "print(count1.count)\n",
    "\n",
    "count1()\n",
    "print(count1.count)\n",
    "\n",
    "count1()\n",
    "print(count1.count)\n",
    "\n",
    "# This also increments the same property\n",
    "count1.increment()\n",
    "print(count1.count)"
   ]
  },
  {
   "cell_type": "markdown",
   "id": "21310b4e-72bb-4cd9-9840-3d8b46510d31",
   "metadata": {},
   "source": [
    "#### More interesting example"
   ]
  },
  {
   "cell_type": "markdown",
   "id": "b1fa149a-ddd7-46e7-a9d2-ab4e1fc7590d",
   "metadata": {},
   "source": [
    "There is no limitation we can get attribute to __call__ and also return values from them"
   ]
  },
  {
   "cell_type": "code",
   "execution_count": 11,
   "id": "c632ca2c-7d39-434c-9d2a-e9ecb2c32f4a",
   "metadata": {},
   "outputs": [],
   "source": [
    "class PowerFactory:\n",
    "    def __init__(self, exponent=2):\n",
    "        self.exponent = exponent\n",
    "    def __call__(self, base):\n",
    "        return base**self.exponent"
   ]
  },
  {
   "cell_type": "code",
   "execution_count": 12,
   "id": "6bd6cef1-8f8a-4b35-8480-f48270006f42",
   "metadata": {},
   "outputs": [
    {
     "data": {
      "text/plain": [
       "64"
      ]
     },
     "execution_count": 12,
     "metadata": {},
     "output_type": "execute_result"
    }
   ],
   "source": [
    "power2 = PowerFactory(2)\n",
    "power2(8)"
   ]
  },
  {
   "cell_type": "code",
   "execution_count": 13,
   "id": "fcc62f08-6cfa-4286-9ef1-33c8c2d976e8",
   "metadata": {},
   "outputs": [
    {
     "data": {
      "text/plain": [
       "512"
      ]
     },
     "execution_count": 13,
     "metadata": {},
     "output_type": "execute_result"
    }
   ],
   "source": [
    "power3 = PowerFactory(3)\n",
    "power3(8)"
   ]
  },
  {
   "cell_type": "markdown",
   "id": "020243a3-06f1-4d34-8d83-a197c8b4411e",
   "metadata": {
    "tags": [],
    "toc-hr-collapsed": true
   },
   "source": [
    "## Understanding the Difference: .\\__init\\__() vs .\\__call\\__()\n",
    "* Note that \\__init\\__ is called as the constructor function of the class\n",
    "* and the \\__call\\__ is called when the instance of the function is called"
   ]
  },
  {
   "cell_type": "code",
   "execution_count": 15,
   "id": "69d61e34-aac2-47ce-a5ab-0e741e8ad8de",
   "metadata": {},
   "outputs": [],
   "source": [
    "class Demo:\n",
    "    def __init__(self, attr):\n",
    "        print(f\"Initialize an instance of {self.__class__.__name__}\")\n",
    "        self.attr = attr\n",
    "        print(f\"{self.attr = }\")\n",
    "\n",
    "    def __call__(self, arg):\n",
    "        print(f\"Call an instance of {self.__class__.__name__} with {arg}\")\n"
   ]
  },
  {
   "cell_type": "code",
   "execution_count": 16,
   "id": "e7d469dc-c2f0-4f74-ad4b-061683a7f271",
   "metadata": {},
   "outputs": [
    {
     "name": "stdout",
     "output_type": "stream",
     "text": [
      "Initialize an instance of Demo\n",
      "self.attr = 'passed attribute to constructor'\n"
     ]
    }
   ],
   "source": [
    "demoEx = Demo(\"passed attribute to constructor\")"
   ]
  },
  {
   "cell_type": "code",
   "execution_count": 17,
   "id": "be4a1aa5-1c95-49a2-9f27-4d2aef74526c",
   "metadata": {},
   "outputs": [
    {
     "name": "stdout",
     "output_type": "stream",
     "text": [
      "Call an instance of Demo with attribute: passed to the instance of the class demo\n"
     ]
    }
   ],
   "source": [
    "demoEx(\"attribute: passed to the instance of the class demo\")"
   ]
  },
  {
   "cell_type": "markdown",
   "id": "30d56bbe-4cab-44ef-9b02-4f82113e6283",
   "metadata": {},
   "source": [
    "You’ll find .\\__init\\__() in all Python classes. Some classes will have an explicit implementation, and others will inherit the method from a parent class. In many cases, object is the class that provides this method:\n",
    "\n",
    "Remember that object is the ultimate parent class of all Python classes. So, even if you don’t define an explicit .__init__() method in one of your custom classes, that class will still inherit the default implementation from object."
   ]
  },
  {
   "cell_type": "code",
   "execution_count": null,
   "id": "396bde06-ef93-44c9-9ede-7f9afb66fe8d",
   "metadata": {},
   "outputs": [],
   "source": []
  },
  {
   "cell_type": "markdown",
   "id": "ba9e0782-75ef-4ff8-8d33-1e9d4c652fbc",
   "metadata": {},
   "source": [
    "## Putting Python’s .\\__call\\__() Into Action"
   ]
  },
  {
   "cell_type": "markdown",
   "id": "71fe30cb-ee60-43ba-8f1c-425d3dc08fa3",
   "metadata": {
    "tags": [],
    "toc-hr-collapsed": true
   },
   "source": [
    "### Writing Stateful Callables\n",
    "means the functions that have states attached to them eg memoization, logger\n",
    "To solve this problem we use **closures** to get a enclosed state with any function and then use it taking advantage of the state attached as the closure to it\n",
    "\n",
    "\n",
    "**NOTE:** Both the soln saves us from using some global variable "
   ]
  },
  {
   "cell_type": "markdown",
   "id": "d2c037d9-7a2d-4071-a3e5-6ac1440f8ea7",
   "metadata": {},
   "source": [
    "#### Using the closures"
   ]
  },
  {
   "cell_type": "code",
   "execution_count": 22,
   "id": "452fc363-f5d7-4051-a8fb-f4889f42bb9e",
   "metadata": {},
   "outputs": [],
   "source": [
    "def cumAvg():\n",
    "    data = []\n",
    "    def avg(num):\n",
    "        data.append(num)\n",
    "        return sum(data)/len(data)\n",
    "    return avg"
   ]
  },
  {
   "cell_type": "code",
   "execution_count": 23,
   "id": "ed95fb5a-facd-42cb-a286-a6fd1f91d42a",
   "metadata": {},
   "outputs": [],
   "source": [
    "# by calling cumAvg we get a function with the state in closure that can is used to calc cumulative avg\n",
    "# Closures can be used to avoid global values and provide data hiding, \n",
    "# and can be an elegant solution for simple cases with one or few methods.\n",
    "\n",
    "streamAvg = cumAvg()"
   ]
  },
  {
   "cell_type": "code",
   "execution_count": 24,
   "id": "244e578e-c4eb-4cb9-a4c9-1607ac33cc97",
   "metadata": {},
   "outputs": [
    {
     "name": "stdout",
     "output_type": "stream",
     "text": [
      "2.0\n",
      "(<cell at 0x7f7e18669ba0: list object at 0x7f7dca7a3580>,)\n"
     ]
    }
   ],
   "source": [
    "# Now we can use this to get the avg of the all passed values and keeps the record of them as well\n",
    "avg1 = streamAvg(2)\n",
    "print(avg1)\n",
    "print(streamAvg.__closure__)"
   ]
  },
  {
   "cell_type": "code",
   "execution_count": 25,
   "id": "9f0f95aa-9fad-4019-a684-fb17a75cd38d",
   "metadata": {},
   "outputs": [
    {
     "name": "stdout",
     "output_type": "stream",
     "text": [
      "2.5\n",
      "(<cell at 0x7f7e18669ba0: list object at 0x7f7dca7a3580>,)\n"
     ]
    }
   ],
   "source": [
    "avg1 = streamAvg(3)\n",
    "print(avg1)\n",
    "print(streamAvg.__closure__)"
   ]
  },
  {
   "cell_type": "markdown",
   "id": "98477b49-7fa0-4ce4-a112-773979b71537",
   "metadata": {},
   "source": [
    "#### Now using the callable instances\n",
    "\n",
    "* Another interesting advantage over closures is that now you have direct access to the current data through the .data attribute\n",
    "* makes your code easier to reason about"
   ]
  },
  {
   "cell_type": "code",
   "execution_count": 27,
   "id": "95a1c085-ad2f-4b9e-90fb-e5e3d772972c",
   "metadata": {},
   "outputs": [
    {
     "name": "stdout",
     "output_type": "stream",
     "text": [
      "10.0\n",
      "15.0\n",
      "16.666666666666668\n",
      "15.0\n"
     ]
    }
   ],
   "source": [
    "class CumAvg:\n",
    "    def __init__(self):\n",
    "        self.data = []\n",
    "    def __call__(self, number):\n",
    "        self.data.append(number)\n",
    "        return sum(self.data)/len(self.data)\n",
    "\n",
    "stream_avg = CumAvg()\n",
    "\n",
    "print(stream_avg(10))\n",
    "print(stream_avg(20))\n",
    "print(stream_avg(20))\n",
    "print(stream_avg(10))        "
   ]
  },
  {
   "cell_type": "markdown",
   "id": "f1a2f17d-406f-407c-b5c2-ca3a1fa5f02d",
   "metadata": {},
   "source": [
    "### Caching Computed Values\n",
    "Another common use case of callable instances is when you need a stateful callable that caches computed data between calls. This will be handy when you need to optimize some algorithms.\n",
    "\n",
    "For example, say that you want to compute the factorial of a given number. Because you plan to run this computation multiple times, you need to make it efficient. A way to do this is to cache the already-computed values so that you don’t have to recompute them all the time."
   ]
  },
  {
   "cell_type": "code",
   "execution_count": 29,
   "id": "40815a8a-22bd-4eb0-9125-2ae79b89fa45",
   "metadata": {},
   "outputs": [],
   "source": [
    "class Factorial:\n",
    "    def __init__(self):\n",
    "        self.cache = {0:1, 1:1}\n",
    "    def __call__(self, number):\n",
    "        if number not in self.cache:\n",
    "            self.cache[number] = number * self(number - 1)\n",
    "            return self.cache[number]\n",
    "        else:\n",
    "            return self.cache[number]"
   ]
  },
  {
   "cell_type": "code",
   "execution_count": 30,
   "id": "9c469f5b-97ba-4530-a87d-40b5785ed9fe",
   "metadata": {},
   "outputs": [
    {
     "name": "stdout",
     "output_type": "stream",
     "text": [
      "CPU times: user 50 µs, sys: 6 µs, total: 56 µs\n",
      "Wall time: 63.4 µs\n"
     ]
    },
    {
     "data": {
      "text/plain": [
       "30414093201713378043612608166064768844377641568960512000000000000"
      ]
     },
     "execution_count": 30,
     "metadata": {},
     "output_type": "execute_result"
    }
   ],
   "source": [
    "%%time\n",
    "\n",
    "factorialCalculator = Factorial()\n",
    "factorialCalculator(50)"
   ]
  },
  {
   "cell_type": "code",
   "execution_count": 31,
   "id": "71ac95d4-0d8f-4354-b9c8-93b932b85882",
   "metadata": {},
   "outputs": [],
   "source": [
    "# a recursive function\n",
    "\n",
    "def fib(num):\n",
    "    if(num<=1 ):\n",
    "        return 1\n",
    "    else:\n",
    "        return num * fib(num-1)"
   ]
  },
  {
   "cell_type": "code",
   "execution_count": 32,
   "id": "f017fa80-2fea-4342-a8b9-832507ba4cdb",
   "metadata": {},
   "outputs": [
    {
     "name": "stdout",
     "output_type": "stream",
     "text": [
      "CPU times: user 8 µs, sys: 1e+03 ns, total: 9 µs\n",
      "Wall time: 11.9 µs\n"
     ]
    },
    {
     "data": {
      "text/plain": [
       "30414093201713378043612608166064768844377641568960512000000000000"
      ]
     },
     "execution_count": 32,
     "metadata": {},
     "output_type": "execute_result"
    }
   ],
   "source": [
    "%%time\n",
    "fib(50)"
   ]
  },
  {
   "cell_type": "markdown",
   "id": "8a7df404-b825-453f-9929-29b025d38689",
   "metadata": {},
   "source": [
    "### When Class has a single behaviour\n",
    "Another use case where .]__call\\__() can help you improve your APIs is when you have a class whose primary purpose is to provide a single action or behavior. For example, say you want a Logger class that takes care of logging messages to a file:"
   ]
  },
  {
   "cell_type": "code",
   "execution_count": 34,
   "id": "5a9283a9-4abd-4c7e-bd8c-dec3da0099c4",
   "metadata": {},
   "outputs": [],
   "source": [
    "class Logger:\n",
    "    def __init__(self, filename):\n",
    "        self.filename = filename\n",
    "\n",
    "    def __call__(self, message):\n",
    "        with open(self.filename, mode=\"a\", encoding=\"utf-8\") as log_file:\n",
    "            log_file.write(message + \"\\n\")"
   ]
  },
  {
   "cell_type": "code",
   "execution_count": 35,
   "id": "89a99f2b-a50f-4eb5-9a8c-4907142aee37",
   "metadata": {},
   "outputs": [],
   "source": [
    "logger = Logger(\"log_test.txt\")\n",
    "logger(\"This is a cool callable instance for logger\")"
   ]
  },
  {
   "cell_type": "markdown",
   "id": "20fdd5b3-1ce3-4a4b-859f-b821988dc459",
   "metadata": {},
   "source": []
  },
  {
   "cell_type": "markdown",
   "id": "860e6173-faf8-4c8e-91e1-cf46c69153be",
   "metadata": {},
   "source": [
    "## Exploring Advanced Use Cases of .__call\\__()"
   ]
  },
  {
   "cell_type": "markdown",
   "id": "b416bb17-1c27-4832-94e3-3bf9ae615b0b",
   "metadata": {},
   "source": [
    "### Writing Class-Based Decorators\n",
    "Python’s **decorators are callables** that **take another callable** as an argument and extend its behavior without explicitly modifying its code. Decorators provide an excellent tool for adding new functionality **to existing callables**.\n",
    "\n",
    "It’s pretty common to find and write function-based decorators. However, you can also write class-based decorators by taking advantage of the .\\__call\\__() special method.\n",
    "\n",
    "**Classes are already callable so they can be decorated with any decorator** \n",
    "\n"
   ]
  },
  {
   "cell_type": "code",
   "execution_count": 39,
   "id": "fb0aaf95-d99f-45dd-ae17-42f32066e66e",
   "metadata": {},
   "outputs": [],
   "source": [
    "import time\n",
    "\n",
    "class ExecutionTimer:\n",
    "    def __init__(self, func):\n",
    "        self.func = func\n",
    "\n",
    "    def __call__(self, *args, **kwargs):\n",
    "        start = time.perf_counter()\n",
    "        result = self.func(*args, **kwargs)\n",
    "        end = time.perf_counter()\n",
    "        print(f\"{self.func.__name__}() took {(end - start) * 1000:.4f} ms\")\n",
    "        return result\n",
    "    \n",
    "# this class can be used as the decorator that takes a function (in decorator __init__) and then using \\__call\\__ ads the additional functionalities\n",
    "# and returns the function"
   ]
  },
  {
   "cell_type": "code",
   "execution_count": 66,
   "id": "a954a312-ff20-41ca-8922-60f9be57ee0c",
   "metadata": {},
   "outputs": [
    {
     "name": "stdout",
     "output_type": "stream",
     "text": [
      "square_numbers() took 0.0115 ms\n",
      "[0, 1, 4, 9, 16, 25, 36, 49, 64, 81, 100, 121, 144, 169, 196, 225, 256, 289, 324, 361, 400, 441, 484, 529, 576, 625, 676, 729, 784, 841, 900, 961, 1024, 1089, 1156, 1225, 1296, 1369, 1444, 1521, 1600, 1681, 1764, 1849, 1936, 2025, 2116, 2209, 2304, 2401, 2500, 2601, 2704, 2809, 2916, 3025, 3136, 3249, 3364, 3481, 3600, 3721, 3844, 3969, 4096, 4225, 4356, 4489, 4624, 4761, 4900, 5041, 5184, 5329, 5476, 5625, 5776, 5929, 6084, 6241, 6400, 6561, 6724, 6889, 7056, 7225, 7396, 7569, 7744, 7921, 8100, 8281, 8464, 8649, 8836, 9025, 9216, 9409, 9604, 9801]\n"
     ]
    }
   ],
   "source": [
    "@ExecutionTimer\n",
    "def square_numbers(numbers):\n",
    "    return [number ** 2 for number in numbers]\n",
    "\n",
    "\n",
    "print(square_numbers(list(range(100))))"
   ]
  },
  {
   "cell_type": "code",
   "execution_count": 68,
   "id": "b3ac4636-2352-4de8-8770-25434329a9a2",
   "metadata": {},
   "outputs": [],
   "source": [
    "import time\n",
    "\n",
    "class ExecutionTimer:\n",
    "    def __init__(self, repetitions=1):\n",
    "        self.repetitions = repetitions\n",
    "\n",
    "    def __call__(self, func):\n",
    "        def timer(*args, **kwargs):\n",
    "            result = None\n",
    "            total_time = 0\n",
    "            print(f\"Running {func.__name__}() {self.repetitions} times\")\n",
    "            for _ in range(self.repetitions):\n",
    "                start = time.perf_counter()\n",
    "                result = func(*args, **kwargs)\n",
    "                end = time.perf_counter()\n",
    "                total_time += end - start\n",
    "            average_time = total_time / self.repetitions\n",
    "            print(\n",
    "                f\"{func.__name__}() takes \"\n",
    "                f\"{average_time * 1000:.4f} ms on average\"\n",
    "            )\n",
    "            return result\n",
    "\n",
    "        return timer"
   ]
  },
  {
   "cell_type": "code",
   "execution_count": 96,
   "id": "786e14e8-13b2-4691-bdbc-3dbc03fd2c8d",
   "metadata": {},
   "outputs": [
    {
     "name": "stdout",
     "output_type": "stream",
     "text": [
      "Running square_numbers() 10 times\n",
      "square_numbers() takes 0.0068 ms on average\n",
      "[0, 1, 4, 9, 16, 25, 36, 49, 64, 81, 100, 121, 144, 169, 196, 225, 256, 289, 324, 361, 400, 441, 484, 529, 576, 625, 676, 729, 784, 841, 900, 961, 1024, 1089, 1156, 1225, 1296, 1369, 1444, 1521, 1600, 1681, 1764, 1849, 1936, 2025, 2116, 2209, 2304, 2401, 2500, 2601, 2704, 2809, 2916, 3025, 3136, 3249, 3364, 3481, 3600, 3721, 3844, 3969, 4096, 4225, 4356, 4489, 4624, 4761, 4900, 5041, 5184, 5329, 5476, 5625, 5776, 5929, 6084, 6241, 6400, 6561, 6724, 6889, 7056, 7225, 7396, 7569, 7744, 7921, 8100, 8281, 8464, 8649, 8836, 9025, 9216, 9409, 9604, 9801]\n"
     ]
    }
   ],
   "source": [
    "@ExecutionTimer(10)\n",
    "def square_numbers(numbers):\n",
    "    return [number ** 2 for number in numbers]\n",
    "\n",
    "\n",
    "print(square_numbers(list(range(100))))"
   ]
  },
  {
   "cell_type": "markdown",
   "id": "e1df10f5-6747-483b-97aa-8650e07873ee",
   "metadata": {},
   "source": [
    "### Implementing strategy pattern\n",
    "The strategy design pattern allows you to define a family of similar algorithms and make them interchangeable at runtime. In other words, the pattern implements different solutions to a given type of problem, with each solution bundled in a specific object. Then, you can choose the appropriate solution dynamically.\n",
    "\n",
    "Note: The strategy design pattern is also pretty useful in languages where functions aren’t first-class citizens. For example, in C++ or Java, using this pattern allows you to pass functions as arguments to other functions."
   ]
  },
  {
   "cell_type": "code",
   "execution_count": 105,
   "id": "2c6fc8dc-db89-4d4d-ad98-fa896c2e8fa8",
   "metadata": {},
   "outputs": [],
   "source": [
    "import json\n",
    "\n",
    "import yaml\n",
    "\n",
    "class JsonSerializer:\n",
    "    def __call__(self, data):\n",
    "        return json.dumps(data, indent=4)\n",
    "\n",
    "class YamlSerializer:\n",
    "    def __call__(self, data):\n",
    "        return yaml.dump(data)\n",
    "\n",
    "class DataSerializer:\n",
    "    def __init__(self, serializing_strategy):\n",
    "        self.serializing_strategy = serializing_strategy\n",
    "\n",
    "    def serialize(self, data):\n",
    "        return self.serializing_strategy(data)"
   ]
  },
  {
   "cell_type": "code",
   "execution_count": 103,
   "id": "382a4342-e4eb-485c-ae0d-acf0fde3754e",
   "metadata": {},
   "outputs": [
    {
     "name": "stdout",
     "output_type": "stream",
     "text": [
      "JSON:\n",
      "{\n",
      "    \"name\": \"Jane Doe\",\n",
      "    \"age\": 30,\n",
      "    \"city\": \"Salt Lake City\",\n",
      "    \"job\": \"Python Developer\"\n",
      "}\n"
     ]
    }
   ],
   "source": [
    "data = {\n",
    "    \"name\": \"Jane Doe\",\n",
    "    \"age\": 30,\n",
    "    \"city\": \"Salt Lake City\",\n",
    "    \"job\": \"Python Developer\",\n",
    "}\n",
    "\n",
    "serializer = DataSerializer(JsonSerializer())\n",
    "print(f\"JSON:\\n{serializer.serialize(data)}\")"
   ]
  },
  {
   "cell_type": "code",
   "execution_count": 113,
   "id": "fa464dc7-a083-4adf-bc05-308e83a8558e",
   "metadata": {},
   "outputs": [
    {
     "name": "stdout",
     "output_type": "stream",
     "text": [
      "YAML:\n",
      "age: 30\n",
      "city: Salt Lake City\n",
      "job: Python Developer\n",
      "name: Jane Doe\n",
      "\n"
     ]
    }
   ],
   "source": [
    "# Switch strategy\n",
    "serializer.serializing_strategy = YamlSerializer()\n",
    "print(f\"YAML:\\n{serializer.serialize(data)}\")"
   ]
  }
 ],
 "metadata": {
  "kernelspec": {
   "display_name": "anaconda-panel-2023.05-py310",
   "language": "python",
   "name": "conda-env-anaconda-panel-2023.05-py310-py"
  },
  "language_info": {
   "codemirror_mode": {
    "name": "ipython",
    "version": 3
   },
   "file_extension": ".py",
   "mimetype": "text/x-python",
   "name": "python",
   "nbconvert_exporter": "python",
   "pygments_lexer": "ipython3",
   "version": "3.11.5"
  }
 },
 "nbformat": 4,
 "nbformat_minor": 5
}
