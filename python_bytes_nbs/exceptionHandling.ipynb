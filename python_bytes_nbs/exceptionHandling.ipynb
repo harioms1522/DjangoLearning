{
 "cells": [
  {
   "cell_type": "markdown",
   "id": "20df7fb1-608b-434b-9066-b9ac3430b7eb",
   "metadata": {},
   "source": [
    "## Python Errors\n",
    "There are two type of errors:\n",
    "* syntax error: **Thrown by the parsers also known as parsing errors**\n",
    "* exceptions: **detected during execution: most have to be handled**"
   ]
  },
  {
   "cell_type": "code",
   "execution_count": 2,
   "id": "f75200ce-9bed-4152-a30b-b686c238b591",
   "metadata": {},
   "outputs": [
    {
     "ename": "SyntaxError",
     "evalue": "invalid syntax (558363064.py, line 1)",
     "output_type": "error",
     "traceback": [
      "\u001b[0;36m  Cell \u001b[0;32mIn[2], line 1\u001b[0;36m\u001b[0m\n\u001b[0;31m    while True print('Hello world')\u001b[0m\n\u001b[0m               ^\u001b[0m\n\u001b[0;31mSyntaxError\u001b[0m\u001b[0;31m:\u001b[0m invalid syntax\n"
     ]
    }
   ],
   "source": [
    "while True print('Hello world')\n",
    "  File \"<stdin>\", line 1\n",
    "    while True print('Hello world')"
   ]
  },
  {
   "cell_type": "markdown",
   "id": "934ddc2b-dbe6-42b4-b2b1-79dc9d681c41",
   "metadata": {},
   "source": [
    "### Exceptions"
   ]
  },
  {
   "cell_type": "code",
   "execution_count": null,
   "id": "8240436a-b69b-4bba-aec3-c7e5bd92429b",
   "metadata": {},
   "outputs": [],
   "source": [
    "10* (1/0)"
   ]
  },
  {
   "cell_type": "code",
   "execution_count": null,
   "id": "96711ab0-3ee6-4df7-983b-9ddbf49b8c4a",
   "metadata": {},
   "outputs": [],
   "source": [
    "spam"
   ]
  },
  {
   "cell_type": "code",
   "execution_count": null,
   "id": "0c6467ab-d618-4658-ad67-b97d37fca579",
   "metadata": {},
   "outputs": [],
   "source": [
    "\"23\" + 1"
   ]
  },
  {
   "cell_type": "code",
   "execution_count": null,
   "id": "bcd185f8-7674-4ba2-9c70-3d368bfc62db",
   "metadata": {},
   "outputs": [],
   "source": []
  },
  {
   "cell_type": "markdown",
   "id": "b346feb5-ee20-46f0-95e4-d3ea972ac475",
   "metadata": {},
   "source": [
    "# ERROR HANDLING"
   ]
  },
  {
   "cell_type": "markdown",
   "id": "faf20a43-7690-4078-9a37-c56f3e923832",
   "metadata": {},
   "source": [
    "### Basic syntx"
   ]
  },
  {
   "cell_type": "code",
   "execution_count": null,
   "id": "e570d655-1884-4d26-91d8-4ab3822fd67b",
   "metadata": {},
   "outputs": [],
   "source": [
    "try:\n",
    "    prit(\"hello World\")\n",
    "except Exception as e:\n",
    "    print(\"Error#123\", e)\n",
    "    "
   ]
  },
  {
   "cell_type": "markdown",
   "id": "f01d5d73-48b7-42bb-aee8-57034906ddb8",
   "metadata": {},
   "source": [
    "### Multiple exceptions can be handled\n",
    "* We should add more general error in the end and specific error before them\n",
    "* else part always executes when there was no error found in the code\n",
    "* **finally** is used to do some general cleanup work after we have gone through some task eg. closing a file or a server etc...\n"
   ]
  },
  {
   "cell_type": "code",
   "execution_count": null,
   "id": "65a5ad8a-4f57-406f-8671-fd263f9d55a8",
   "metadata": {},
   "outputs": [],
   "source": [
    "try:\n",
    "    print(\"hsd\")\n",
    "except NameError:\n",
    "    print(\"a name error\")\n",
    "except Exception as e:\n",
    "    print(e)\n",
    "else:\n",
    "    print(\"no error was generated\")\n",
    "    "
   ]
  },
  {
   "cell_type": "markdown",
   "id": "2688b5ef-b8a5-41de-b8e7-9833b2d94a69",
   "metadata": {},
   "source": [
    "### generating an Exception\n",
    "Here it can be seen that we can generate an error with message"
   ]
  },
  {
   "cell_type": "code",
   "execution_count": null,
   "id": "0dfc95ab-11b0-41f1-a93e-3251829f383f",
   "metadata": {},
   "outputs": [],
   "source": [
    "class NewNamedException(Exception):\n",
    "    def __init__(this, message):\n",
    "        super()\n",
    "        this.message = message\n",
    "try:\n",
    "    print(\"hsd\")\n",
    "    raise NewNamedException(\"dhdskhsd\")\n",
    "except NameError:\n",
    "    print(\"a name error\")\n",
    "except NewNamedException as e:\n",
    "    print(\"HERE\", e) \n",
    "except Exception as e:\n",
    "    print(e)\n",
    "else:\n",
    "    print(\"no error was generated\")\n",
    "    "
   ]
  }
 ],
 "metadata": {
  "kernelspec": {
   "display_name": "anaconda-panel-2023.05-py310",
   "language": "python",
   "name": "conda-env-anaconda-panel-2023.05-py310-py"
  },
  "language_info": {
   "codemirror_mode": {
    "name": "ipython",
    "version": 3
   },
   "file_extension": ".py",
   "mimetype": "text/x-python",
   "name": "python",
   "nbconvert_exporter": "python",
   "pygments_lexer": "ipython3",
   "version": "3.11.5"
  }
 },
 "nbformat": 4,
 "nbformat_minor": 5
}
