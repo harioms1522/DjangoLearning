{
 "cells": [
  {
   "cell_type": "markdown",
   "id": "abd71964-3142-4841-b354-a60f66581ca6",
   "metadata": {
    "tags": []
   },
   "source": [
    "# Decorators?\n",
    "A decorator is a callable that accepts a callable and returns a modified callable"
   ]
  },
  {
   "cell_type": "markdown",
   "id": "25258c4b-17be-41bc-9e80-edbf845073b3",
   "metadata": {
    "tags": []
   },
   "source": [
    "## Function Based Decorators"
   ]
  },
  {
   "cell_type": "code",
   "execution_count": 90,
   "id": "d7124f6e-e12f-4bbc-854d-548cfb6fe713",
   "metadata": {},
   "outputs": [],
   "source": [
    "def ExecutionTimer1(orig_func):\n",
    "    def wrapperFunction(*args, **kwargs):\n",
    "        t1 = time.time()\n",
    "        result = orig_func(*args, **kwargs)\n",
    "        t2 = time.time()\n",
    "        print(f\"{orig_func.__name__}() took {(t2-t1) * 1000:.4f} to execute\")\n",
    "        return result\n",
    "    return wrapperFunction\n",
    "            "
   ]
  },
  {
   "cell_type": "code",
   "execution_count": 92,
   "id": "f0818d5e-7307-4d78-86f6-624d9ec119e2",
   "metadata": {},
   "outputs": [
    {
     "name": "stdout",
     "output_type": "stream",
     "text": [
      "square_numbers() took 0.0095 to execute\n",
      "[0, 1, 4, 9, 16, 25, 36, 49, 64, 81, 100, 121, 144, 169, 196, 225, 256, 289, 324, 361, 400, 441, 484, 529, 576, 625, 676, 729, 784, 841, 900, 961, 1024, 1089, 1156, 1225, 1296, 1369, 1444, 1521, 1600, 1681, 1764, 1849, 1936, 2025, 2116, 2209, 2304, 2401, 2500, 2601, 2704, 2809, 2916, 3025, 3136, 3249, 3364, 3481, 3600, 3721, 3844, 3969, 4096, 4225, 4356, 4489, 4624, 4761, 4900, 5041, 5184, 5329, 5476, 5625, 5776, 5929, 6084, 6241, 6400, 6561, 6724, 6889, 7056, 7225, 7396, 7569, 7744, 7921, 8100, 8281, 8464, 8649, 8836, 9025, 9216, 9409, 9604, 9801]\n"
     ]
    }
   ],
   "source": [
    "@ExecutionTimer1\n",
    "def square_numbers(numbers):\n",
    "    return [number ** 2 for number in numbers]\n",
    "\n",
    "\n",
    "print(square_numbers(list(range(100))))"
   ]
  },
  {
   "cell_type": "markdown",
   "id": "195d392b-8fb3-44a8-9ea5-eaaf3bef0ea9",
   "metadata": {},
   "source": [
    "### Decorator factories\n",
    "This is a function that returns a configured decorator"
   ]
  },
  {
   "cell_type": "code",
   "execution_count": 105,
   "id": "e1eb548c-195a-40b6-8f0e-ce1cd80543fa",
   "metadata": {},
   "outputs": [],
   "source": [
    "def GetExecutionTimer(timeFormat):\n",
    "    def ExecutionTimer1(orig_func):\n",
    "        def wrapperFunction(*args, **kwargs):\n",
    "            t1 = time.time()\n",
    "            result = orig_func(*args, **kwargs)\n",
    "            t2 = time.time()\n",
    "            print(f\"{orig_func.__name__}() took {(t2-t1) * timeFormat:.4f} to execute\")\n",
    "            return result\n",
    "        return wrapperFunction\n",
    "    return ExecutionTimer1\n",
    "            "
   ]
  },
  {
   "cell_type": "code",
   "execution_count": 123,
   "id": "dc3707df-6df6-4e78-b671-35fb556664ae",
   "metadata": {},
   "outputs": [
    {
     "name": "stdout",
     "output_type": "stream",
     "text": [
      "square_numbers() took 0.0103 to execute\n",
      "[0, 1, 4, 9, 16, 25, 36, 49, 64, 81, 100, 121, 144, 169, 196, 225, 256, 289, 324, 361, 400, 441, 484, 529, 576, 625, 676, 729, 784, 841, 900, 961, 1024, 1089, 1156, 1225, 1296, 1369, 1444, 1521, 1600, 1681, 1764, 1849, 1936, 2025, 2116, 2209, 2304, 2401, 2500, 2601, 2704, 2809, 2916, 3025, 3136, 3249, 3364, 3481, 3600, 3721, 3844, 3969, 4096, 4225, 4356, 4489, 4624, 4761, 4900, 5041, 5184, 5329, 5476, 5625, 5776, 5929, 6084, 6241, 6400, 6561, 6724, 6889, 7056, 7225, 7396, 7569, 7744, 7921, 8100, 8281, 8464, 8649, 8836, 9025, 9216, 9409, 9604, 9801]\n",
      "square_numbers() took 0.6676 to execute\n",
      "[0, 1, 4, 9, 16, 25, 36, 49, 64, 81, 100, 121, 144, 169, 196, 225, 256, 289, 324, 361, 400, 441, 484, 529, 576, 625, 676, 729, 784, 841, 900, 961, 1024, 1089, 1156, 1225, 1296, 1369, 1444, 1521, 1600, 1681, 1764, 1849, 1936, 2025, 2116, 2209, 2304, 2401, 2500, 2601, 2704, 2809, 2916, 3025, 3136, 3249, 3364, 3481, 3600, 3721, 3844, 3969, 4096, 4225, 4356, 4489, 4624, 4761, 4900, 5041, 5184, 5329, 5476, 5625, 5776, 5929, 6084, 6241, 6400, 6561, 6724, 6889, 7056, 7225, 7396, 7569, 7744, 7921, 8100, 8281, 8464, 8649, 8836, 9025, 9216, 9409, 9604, 9801]\n"
     ]
    }
   ],
   "source": [
    "@GetExecutionTimer(1000)\n",
    "def square_numbers(numbers):\n",
    "    return [number ** 2 for number in numbers]\n",
    "\n",
    "print(square_numbers(list(range(100))))\n",
    "\n",
    "\n",
    "@GetExecutionTimer(100000)\n",
    "def square_numbers(numbers):\n",
    "    return [number ** 2 for number in numbers]\n",
    "\n",
    "print(square_numbers(list(range(100))))"
   ]
  },
  {
   "cell_type": "markdown",
   "id": "9546276d-9374-481b-bee5-63f56d36d487",
   "metadata": {},
   "source": []
  },
  {
   "cell_type": "markdown",
   "id": "bce7449f-f3c4-4ade-b17f-021eebc85230",
   "metadata": {},
   "source": []
  },
  {
   "cell_type": "markdown",
   "id": "f157a57a-435d-4807-b883-3170813c2263",
   "metadata": {
    "tags": []
   },
   "source": [
    "## Class Based Decorators??"
   ]
  },
  {
   "cell_type": "code",
   "execution_count": 68,
   "id": "44d3f913-89bb-4dab-8fcc-30fb2a64b234",
   "metadata": {},
   "outputs": [],
   "source": [
    "import time\n",
    "class ExecutionTimer:\n",
    "    def __init__(self, func_original):\n",
    "        self.func_original = func_original\n",
    "    def __call__(self, *args, **kwargs):\n",
    "        t1 = time.time()\n",
    "        result = self.func_original(*args, **kwargs)\n",
    "        t2 = time.time()\n",
    "        print(f\"{self.func_original.__name__}() took {(t2-t1) * 1000:.4f} to execute\")\n",
    "        return result\n",
    "        "
   ]
  },
  {
   "cell_type": "markdown",
   "id": "30a2f1c2-728f-4022-bc32-ac854d117cd4",
   "metadata": {},
   "source": [
    "**NOTE:** A decorator is a callable that accepts a callable and returns a modified callable"
   ]
  },
  {
   "cell_type": "code",
   "execution_count": 70,
   "id": "6ce5cda7-b5f1-49ca-881e-12c779436d76",
   "metadata": {},
   "outputs": [
    {
     "name": "stdout",
     "output_type": "stream",
     "text": [
      "square_numbers() took 0.0138 to execute\n",
      "[0, 1, 4, 9, 16, 25, 36, 49, 64, 81, 100, 121, 144, 169, 196, 225, 256, 289, 324, 361, 400, 441, 484, 529, 576, 625, 676, 729, 784, 841, 900, 961, 1024, 1089, 1156, 1225, 1296, 1369, 1444, 1521, 1600, 1681, 1764, 1849, 1936, 2025, 2116, 2209, 2304, 2401, 2500, 2601, 2704, 2809, 2916, 3025, 3136, 3249, 3364, 3481, 3600, 3721, 3844, 3969, 4096, 4225, 4356, 4489, 4624, 4761, 4900, 5041, 5184, 5329, 5476, 5625, 5776, 5929, 6084, 6241, 6400, 6561, 6724, 6889, 7056, 7225, 7396, 7569, 7744, 7921, 8100, 8281, 8464, 8649, 8836, 9025, 9216, 9409, 9604, 9801]\n"
     ]
    }
   ],
   "source": [
    "@ExecutionTimer\n",
    "def square_numbers(numbers):\n",
    "    return [number ** 2 for number in numbers]\n",
    "\n",
    "\n",
    "print(square_numbers(list(range(100))))"
   ]
  },
  {
   "cell_type": "markdown",
   "id": "d3159a6e-c5cd-45c5-9b4d-1f7e92376596",
   "metadata": {},
   "source": [
    "* Here @ExecutionTimer is the constructor function of the ExecutionTimer class which is a callable\n",
    "* When the \\__init\\__ (constructor: ExecutionTimer) is called then it returns an object \n",
    "* here we are providing a \\__call\\__() method that makes this newly returned object to be callable\n",
    "* **So in this case of the class based decorator, this square_number is converted into a callable object**\n",
    "\n",
    "Check the below cell we are having an object that has that original function in it as property **func_original**"
   ]
  },
  {
   "cell_type": "code",
   "execution_count": 26,
   "id": "8fbfe85a-0c6c-4884-af45-32d0ce8d115d",
   "metadata": {},
   "outputs": [
    {
     "data": {
      "text/plain": [
       "['__call__',\n",
       " '__class__',\n",
       " '__delattr__',\n",
       " '__dict__',\n",
       " '__dir__',\n",
       " '__doc__',\n",
       " '__eq__',\n",
       " '__format__',\n",
       " '__ge__',\n",
       " '__getattribute__',\n",
       " '__getstate__',\n",
       " '__gt__',\n",
       " '__hash__',\n",
       " '__init__',\n",
       " '__init_subclass__',\n",
       " '__le__',\n",
       " '__lt__',\n",
       " '__module__',\n",
       " '__ne__',\n",
       " '__new__',\n",
       " '__reduce__',\n",
       " '__reduce_ex__',\n",
       " '__repr__',\n",
       " '__setattr__',\n",
       " '__sizeof__',\n",
       " '__str__',\n",
       " '__subclasshook__',\n",
       " '__weakref__',\n",
       " 'func_original']"
      ]
     },
     "execution_count": 26,
     "metadata": {},
     "output_type": "execute_result"
    }
   ],
   "source": [
    "dir(square_numbers)"
   ]
  },
  {
   "cell_type": "markdown",
   "id": "93734685-89d3-4268-a616-4829cc013bd5",
   "metadata": {},
   "source": [
    "### Decorator factory in class-based decorators\n",
    "We can change the behaviour of the decorator using the same class by having different configuration attributes"
   ]
  },
  {
   "cell_type": "code",
   "execution_count": 55,
   "id": "7add536e-a60c-4d1f-a832-de854994240c",
   "metadata": {},
   "outputs": [],
   "source": [
    "class logger:\n",
    "    def __init__(self, original_function, log_type='debug'):\n",
    "        self.original_function = original_function\n",
    "        self.log_type = log_type\n",
    "        \n",
    "    def __call__(self, *args, **kwargs):\n",
    "        result = self.original_function(*args, **kwargs)\n",
    "        file = open(f\"{self.original_function.__name__}_{self.log_type}.txt\", \"w\")\n",
    "        file.write(str(result))\n",
    "        file.close()\n",
    "            \n",
    "        return result"
   ]
  },
  {
   "cell_type": "code",
   "execution_count": 57,
   "id": "b020ac09-1a23-422f-9483-4e8db9ac761a",
   "metadata": {},
   "outputs": [],
   "source": [
    "@logger\n",
    "def sum(a,b):\n",
    "    return a+b"
   ]
  },
  {
   "cell_type": "code",
   "execution_count": 59,
   "id": "7e433739-b91e-44fc-aaab-ab41cff61349",
   "metadata": {},
   "outputs": [
    {
     "data": {
      "text/plain": [
       "30"
      ]
     },
     "execution_count": 59,
     "metadata": {},
     "output_type": "execute_result"
    }
   ],
   "source": [
    "sum(10,20)"
   ]
  }
 ],
 "metadata": {
  "kernelspec": {
   "display_name": "anaconda-panel-2023.05-py310",
   "language": "python",
   "name": "conda-env-anaconda-panel-2023.05-py310-py"
  },
  "language_info": {
   "codemirror_mode": {
    "name": "ipython",
    "version": 3
   },
   "file_extension": ".py",
   "mimetype": "text/x-python",
   "name": "python",
   "nbconvert_exporter": "python",
   "pygments_lexer": "ipython3",
   "version": "3.11.5"
  }
 },
 "nbformat": 4,
 "nbformat_minor": 5
}
